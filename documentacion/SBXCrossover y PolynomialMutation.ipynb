{
 "cells": [
  {
   "cell_type": "markdown",
   "metadata": {},
   "source": [
    "# SBXCrossover"
   ]
  },
  {
   "cell_type": "markdown",
   "metadata": {},
   "source": [
    "```java\n",
    "    /**\n",
    "     * Apply crossover to solution\n",
    "     *\n",
    "     * @param source the parents to operates.\n",
    "     * @return the crossover elements\n",
    "     * @throws NullPointerException     if source is null\n",
    "     * @throws IllegalArgumentException if source size is other than 2\n",
    "     */\n",
    "    @Override\n",
    "    public List<IntegerSolution> execute(List<IntegerSolution> source) {\n",
    "        Objects.requireNonNull(source);\n",
    "        if (source.size() != getNumberOfRequiredParents()) {\n",
    "            throw new IllegalArgumentException(\"There must be two parents instead of \" + source.size());\n",
    "        }\n",
    "\n",
    "        IntegerSolution parent1 = source.get(0);\n",
    "        IntegerSolution parent2 = source.get(1);\n",
    "\n",
    "        List<IntegerSolution> offspring = new ArrayList<IntegerSolution>(2);\n",
    "\n",
    "        offspring.add((IntegerSolution) parent1.copy());\n",
    "        offspring.add((IntegerSolution) parent2.copy());\n",
    "\n",
    "        int i;\n",
    "        double rand;\n",
    "        double y1, y2, yL, yU;\n",
    "        double c1, c2;\n",
    "        double alpha, beta, betaq;\n",
    "        int valueX1, valueX2;\n",
    "\n",
    "        if (random.getRandomValue() <= crossoverProbability) {\n",
    "            for (i = 0; i < parent1.getNumberOfVariables(); i++) {\n",
    "                valueX1 = parent1.getVariable(i);\n",
    "                valueX2 = parent2.getVariable(i);\n",
    "                if (random.getRandomValue() <= 0.5) {\n",
    "                    if (Math.abs(valueX1 - valueX2) > EPS) // EPS = 1.0e-14\n",
    "                    {\n",
    "\n",
    "                        if (valueX1 < valueX2) {\n",
    "                            y1 = valueX1;\n",
    "                            y2 = valueX2;\n",
    "                        } else {\n",
    "                            y1 = valueX2;\n",
    "                            y2 = valueX1;\n",
    "                        }\n",
    "\n",
    "                        yL = parent1.getLowerBound(i);\n",
    "                        yU = parent1.getUpperBound(i);\n",
    "                        rand = random.getRandomValue();\n",
    "                        //--------------------------------------\n",
    "                        beta = 1.0 + (2.0 * (y1 - yL) / (y2 - y1));\n",
    "                        alpha = 2.0 - Math.pow(beta, -(distributionIndex + 1.0));\n",
    "\n",
    "                        if (rand <= (1.0 / alpha)) {\n",
    "                            betaq = Math.pow((rand * alpha), (1.0 / (distributionIndex + 1.0)));\n",
    "                        } else {\n",
    "                            betaq = Math.pow(1.0 / (2.0 - rand * alpha), 1.0 / (distributionIndex + 1.0));\n",
    "                        }\n",
    "\n",
    "                        c1 = 0.5 * ((y1 + y2) - betaq * (y2 - y1));\n",
    "\n",
    "                        //--------------------------------------\n",
    "                        beta = 1.0 + (2.0 * (yU - y2) / (y2 - y1));\n",
    "                        alpha = 2.0 - Math.pow(beta, -(distributionIndex + 1.0));\n",
    "\n",
    "                        if (rand <= (1.0 / alpha)) {\n",
    "                            betaq = Math.pow((rand * alpha), (1.0 / (distributionIndex + 1.0)));\n",
    "                        } else {\n",
    "                            betaq = Math.pow(1.0 / (2.0 - rand * alpha), 1.0 / (distributionIndex + 1.0));\n",
    "                        }\n",
    "\n",
    "                        c2 = 0.5 * (y1 + y2 + betaq * (y2 - y1));\n",
    "\n",
    "                        if (c1 < yL) {\n",
    "                            c1 = yL;\n",
    "                        }\n",
    "\n",
    "                        if (c2 < yL) {\n",
    "                            c2 = yL;\n",
    "                        }\n",
    "\n",
    "                        if (c1 > yU) {\n",
    "                            c1 = yU;\n",
    "                        }\n",
    "\n",
    "                        if (c2 > yU) {\n",
    "                            c2 = yU;\n",
    "                        }\n",
    "\n",
    "                        if (random.getRandomValue() <= 0.5) {\n",
    "                            offspring.get(0).setVariable(i, (int) c2);\n",
    "                            offspring.get(1).setVariable(i, (int) c1);\n",
    "                        } else {\n",
    "                            offspring.get(0).setVariable(i, (int) c1);\n",
    "                            offspring.get(1).setVariable(i, (int) c2);\n",
    "                        }\n",
    "                    } else {\n",
    "                        offspring.get(0).setVariable(i, valueX1);\n",
    "                        offspring.get(1).setVariable(i, valueX2);\n",
    "                    }\n",
    "                } else {\n",
    "                    offspring.get(0).setVariable(i, valueX2);\n",
    "                    offspring.get(1).setVariable(i, valueX1);\n",
    "                }\n",
    "            }\n",
    "        }\n",
    "\n",
    "        return offspring;\n",
    "    }\n",
    "\n",
    "```"
   ]
  },
  {
   "cell_type": "markdown",
   "metadata": {},
   "source": [
    "Definición de valores\n",
    "\n",
    "$y_1:$ variable de decision de una de las soluciones.\n",
    "\n",
    "$y_2:$ variable de desicion de la otra solucion.\n",
    "\n",
    "Se cumple que $y_1 < y_2$. Por lo tanto, a $y_1$ se le asigna la variable que tiene el menor valor y a $y_2$ la otra.\n",
    "\n",
    "$yL:$ Lower Bound\n",
    "\n",
    "$yU:$ Upper Bound\n",
    "\n",
    "$r:$ Random value con $0 \\leq r \\leq 1$\n",
    "\n",
    "$d_i:$ distribution index"
   ]
  },
  {
   "cell_type": "code",
   "execution_count": 101,
   "metadata": {},
   "outputs": [],
   "source": [
    "y1 = 3\n",
    "y2 = 4\n",
    "yL = 1\n",
    "yU = 6\n",
    "r = 0.5795277000586205\n",
    "di = 20\n",
    "\n",
    "# Valida\n",
    "if (y1 > y2): raise ValueError(\"y1({y1}) tiene que ser menor que y2({y2})\")\n",
    "if ((r < 0) or (r > 1)): raise ValueError(\"r({r}) tiene que estar entre 0 y 1\")\n",
    "if (not(yL < yU)):  raise ValueError(\"yL({yL}) tiene que ser menor que yU({yU})\")\n",
    "if ((y1 < yL) or (y1 > yU)):  raise ValueError(f\"y({y1}) tiene que  estar entre yL({yL}) y yU({yU})\")\n",
    "if ((y2 < yL) or (y2 > yU)):  raise ValueError(f\"y({y2}) tiene que  estar entre yL({yL}) y yU({yU})\")"
   ]
  },
  {
   "cell_type": "markdown",
   "metadata": {},
   "source": [
    "## Calculando C1"
   ]
  },
  {
   "cell_type": "markdown",
   "metadata": {},
   "source": [
    "$$\\beta = 1 + 2\\frac{y_1-yL}{y_2-y_1}$$\n",
    "\n",
    "$$\\alpha = 2 - \\frac{1}{\\beta^{di+1}}$$"
   ]
  },
  {
   "cell_type": "code",
   "execution_count": 102,
   "metadata": {},
   "outputs": [
    {
     "data": {
      "text/plain": [
       "5.0"
      ]
     },
     "execution_count": 102,
     "metadata": {},
     "output_type": "execute_result"
    }
   ],
   "source": [
    "beta = 1 + 2*((y1-yL)/(y2-y1))\n",
    "beta"
   ]
  },
  {
   "cell_type": "code",
   "execution_count": 103,
   "metadata": {},
   "outputs": [
    {
     "data": {
      "text/plain": [
       "1.999999999999998"
      ]
     },
     "execution_count": 103,
     "metadata": {},
     "output_type": "execute_result"
    }
   ],
   "source": [
    "alpha = 2 - 1/(beta**(di+1))\n",
    "alpha"
   ]
  },
  {
   "cell_type": "markdown",
   "metadata": {},
   "source": [
    " \n",
    "$$\n",
    "\\begin{cases} \n",
    "\\beta_q=\\sqrt[d_i+1]{r\\alpha} & \\text{si $r\\leq \\frac{1}{\\alpha}$} \\\\ \n",
    "\\beta_q=\\sqrt[d_i+1]{\\frac{1}{2-r\\alpha}} &  \\text{si $r > \\frac{1}{\\alpha}$}\n",
    "\\end{cases}\n",
    "$$\n"
   ]
  },
  {
   "cell_type": "code",
   "execution_count": 104,
   "metadata": {},
   "outputs": [],
   "source": [
    "def getBetaQ(alpha, r, di):\n",
    "    if (r <= 1/alpha):\n",
    "        return (r*alpha)**(1/(di+1))\n",
    "    else:\n",
    "        return (1/(2-r*alpha))**(1/(di+1))"
   ]
  },
  {
   "cell_type": "markdown",
   "metadata": {},
   "source": [
    "$$C_1 = 0.5 ((y_1+y_2)-\\beta_q(y_2-y_1))$$"
   ]
  },
  {
   "cell_type": "code",
   "execution_count": 105,
   "metadata": {},
   "outputs": [
    {
     "data": {
      "text/plain": [
       "1.008283140525676"
      ]
     },
     "execution_count": 105,
     "metadata": {},
     "output_type": "execute_result"
    }
   ],
   "source": [
    "bq= getBetaQ(alpha,r,di)\n",
    "bq"
   ]
  },
  {
   "cell_type": "code",
   "execution_count": 106,
   "metadata": {},
   "outputs": [
    {
     "data": {
      "text/plain": [
       "2.995858429737162"
      ]
     },
     "execution_count": 106,
     "metadata": {},
     "output_type": "execute_result"
    }
   ],
   "source": [
    "c1 = 0.5*((y1+y2)-bq*(y2-y1))\n",
    "c1"
   ]
  },
  {
   "cell_type": "markdown",
   "metadata": {},
   "source": [
    "## Calculando C2"
   ]
  },
  {
   "cell_type": "markdown",
   "metadata": {},
   "source": [
    "$$\\beta = 1 + 2 \\cdot \\frac{yU-y_2}{y_2-y_1}$$\n",
    "\n",
    "$$\\alpha = 2 - \\frac{1}{\\beta^{di+1}}$$"
   ]
  },
  {
   "cell_type": "code",
   "execution_count": 107,
   "metadata": {},
   "outputs": [
    {
     "data": {
      "text/plain": [
       "5.0"
      ]
     },
     "execution_count": 107,
     "metadata": {},
     "output_type": "execute_result"
    }
   ],
   "source": [
    "beta = 1 + 2 *((yU-y2)/(y2-y1))\n",
    "beta"
   ]
  },
  {
   "cell_type": "code",
   "execution_count": 108,
   "metadata": {},
   "outputs": [
    {
     "data": {
      "text/plain": [
       "1.999999999999998"
      ]
     },
     "execution_count": 108,
     "metadata": {},
     "output_type": "execute_result"
    }
   ],
   "source": [
    "alpha = 2 - 1/(beta**(di+1))\n",
    "alpha"
   ]
  },
  {
   "cell_type": "markdown",
   "metadata": {},
   "source": [
    "$$C_2 = 0.5 ((y_1+y_2)+\\beta_q(y_2-y_1))$$"
   ]
  },
  {
   "cell_type": "code",
   "execution_count": 109,
   "metadata": {},
   "outputs": [
    {
     "data": {
      "text/plain": [
       "1.008283140525676"
      ]
     },
     "execution_count": 109,
     "metadata": {},
     "output_type": "execute_result"
    }
   ],
   "source": [
    "bq= getBetaQ(alpha,r,di)\n",
    "bq"
   ]
  },
  {
   "cell_type": "code",
   "execution_count": 110,
   "metadata": {},
   "outputs": [
    {
     "data": {
      "text/plain": [
       "4.0041415702628385"
      ]
     },
     "execution_count": 110,
     "metadata": {},
     "output_type": "execute_result"
    }
   ],
   "source": [
    "c2 = 0.5*((y1+y2)+bq*(y2-y1))\n",
    "c2"
   ]
  },
  {
   "cell_type": "markdown",
   "metadata": {},
   "source": [
    "## Resultados "
   ]
  },
  {
   "cell_type": "code",
   "execution_count": 111,
   "metadata": {},
   "outputs": [
    {
     "name": "stdout",
     "output_type": "stream",
     "text": [
      "c1 =  2\n",
      "c2 =  4\n"
     ]
    }
   ],
   "source": [
    "print(\"c1 = \", int(c1))\n",
    "print(\"c2 = \", int(c2))"
   ]
  },
  {
   "cell_type": "markdown",
   "metadata": {},
   "source": [
    "# Polynomial Mutation "
   ]
  },
  {
   "cell_type": "markdown",
   "metadata": {},
   "source": [
    "``` java\n",
    "    /**\n",
    "     * Perform the mutation operation\n",
    "     */\n",
    "    private void doMutation(double probability, IntegerSolution solution) {\n",
    "        double rnd, delta1, delta2, mutPow, deltaq;\n",
    "        double y, yL, yU, val, xy;\n",
    "\n",
    "        for (int i = 0; i < solution.getNumberOfVariables(); i++) {\n",
    "            if (random.getRandomValue() <= probability) {\n",
    "                y = (double) solution.getVariable(i);\n",
    "                yL = solution.getLowerBound(i);\n",
    "                yU = solution.getUpperBound(i);\n",
    "                if (yL == yU) {\n",
    "                    y = yL;\n",
    "                } else {\n",
    "                    delta1 = (y - yL) / (yU - yL);\n",
    "                    delta2 = (yU - y) / (yU - yL);\n",
    "                    rnd = random.getRandomValue();\n",
    "                    mutPow = 1.0 / (distributionIndex + 1.0);\n",
    "                    if (rnd <= 0.5) {\n",
    "                        xy = 1.0 - delta1;\n",
    "                        val = 2.0 * rnd + (1.0 - 2.0 * rnd) * (Math.pow(xy, distributionIndex + 1.0));\n",
    "                        deltaq = Math.pow(val, mutPow) - 1.0;\n",
    "                    } else {\n",
    "                        xy = 1.0 - delta2;\n",
    "                        val = 2.0 * (1.0 - rnd) + 2.0 * (rnd - 0.5) * (Math.pow(xy, distributionIndex + 1.0));\n",
    "                        deltaq = 1.0 - Math.pow(val, mutPow);\n",
    "                    }\n",
    "                    y = y + deltaq * (yU - yL);\n",
    "                    y = repairSolutionVariableValue(y, yL, yU);\n",
    "                }\n",
    "                solution.setVariable(i, (int) y);\n",
    "            }\n",
    "        }\n",
    "    }\n",
    "```"
   ]
  },
  {
   "cell_type": "markdown",
   "metadata": {},
   "source": [
    "Definición de valores\n",
    "\n",
    "$y:$ variable de decision\n",
    "\n",
    "$yL:$ Lower Bound\n",
    "\n",
    "$yU:$ Upper Bound\n",
    "\n",
    "$r:$ Random value con $0 \\leq r \\leq 1$\n",
    "\n",
    "$d_i:$ distribution index"
   ]
  },
  {
   "cell_type": "code",
   "execution_count": 6,
   "metadata": {},
   "outputs": [],
   "source": [
    "y = 1 # 6\n",
    "yL = 1\n",
    "yU = 6\n",
    "r = 0.6182457396478912 # 0.5182380048259613\n",
    "di = 20\n",
    "\n",
    "# Valida\n",
    "if ((r < 0) or (r > 1)): raise ValueError(\"r({r}) tiene que estar entre 0 y 1\")\n",
    "if (not(yL < yU)):  raise ValueError(\"yL({yL}) tiene que ser menor que yU({yU})\")\n",
    "if ((y < yL) or (y > yU)):  raise ValueError(f\"y({y}) tiene que  estar entre yL({yL}) y yU({yU})\")"
   ]
  },
  {
   "cell_type": "markdown",
   "metadata": {},
   "source": [
    "## Calculando los $\\Delta$'s\n",
    "\n",
    "$$\\Delta_1 = \\frac{y-yL}{yU-yL}$$\n",
    "$$\\Delta_2 = \\frac{yU-y}{yU-yL}$$"
   ]
  },
  {
   "cell_type": "code",
   "execution_count": 7,
   "metadata": {},
   "outputs": [
    {
     "data": {
      "text/plain": [
       "0.0"
      ]
     },
     "execution_count": 7,
     "metadata": {},
     "output_type": "execute_result"
    }
   ],
   "source": [
    "delta1 = (y-yL)/(yU-yL)\n",
    "delta1"
   ]
  },
  {
   "cell_type": "code",
   "execution_count": 8,
   "metadata": {},
   "outputs": [
    {
     "data": {
      "text/plain": [
       "1.0"
      ]
     },
     "execution_count": 8,
     "metadata": {},
     "output_type": "execute_result"
    }
   ],
   "source": [
    "delta2 = (yU-y)/(yU-yL)\n",
    "delta2"
   ]
  },
  {
   "cell_type": "markdown",
   "metadata": {},
   "source": [
    "## Calculando $\\Delta_Q$\n",
    "$$\n",
    "\\begin{cases} \n",
    "\\Delta_q = \\sqrt[di+1]{2r+(1-2r)(1-\\Delta_{1})^{di+1}} - 1 & \\text{si $r\\leq 0.5$} \\\\ \n",
    "\\Delta_q = 1 - \\sqrt[di+1]{2(1-r)+2(r-0.5)(1-\\Delta_{2})^{di+1}} &  \\text{si $r > 0.5$}\n",
    "\\end{cases}\n",
    "$$"
   ]
  },
  {
   "cell_type": "code",
   "execution_count": 9,
   "metadata": {},
   "outputs": [],
   "source": [
    "def getDeltaQ(delta1, delta2, r ,di):\n",
    "    if (r<=0.5):\n",
    "        return (2*r+(1-2*r)*(1-delta1)**(di+1))**(1/(di+1)) - 1\n",
    "    else:\n",
    "        return 1 - (2*(1-r)+2*(r-0.5)*(1-delta2)**(di+1))**(1/(di+1))"
   ]
  },
  {
   "cell_type": "code",
   "execution_count": 10,
   "metadata": {},
   "outputs": [
    {
     "data": {
      "text/plain": [
       "0.012766897777053976"
      ]
     },
     "execution_count": 10,
     "metadata": {},
     "output_type": "execute_result"
    }
   ],
   "source": [
    "deltaq= getDeltaQ(delta1, delta2, r, di)\n",
    "deltaq"
   ]
  },
  {
   "cell_type": "markdown",
   "metadata": {},
   "source": [
    "## Obteniendo el resultado\n",
    "$$y = y + \\Delta_q(yU-yL)$$"
   ]
  },
  {
   "cell_type": "code",
   "execution_count": 11,
   "metadata": {},
   "outputs": [
    {
     "data": {
      "text/plain": [
       "1.06383448888527"
      ]
     },
     "execution_count": 11,
     "metadata": {},
     "output_type": "execute_result"
    }
   ],
   "source": [
    "y = y + deltaq * (yU-yL)\n",
    "y"
   ]
  },
  {
   "cell_type": "code",
   "execution_count": 12,
   "metadata": {},
   "outputs": [
    {
     "data": {
      "text/plain": [
       "1"
      ]
     },
     "execution_count": 12,
     "metadata": {},
     "output_type": "execute_result"
    }
   ],
   "source": [
    "y = int(y)\n",
    "y"
   ]
  }
 ],
 "metadata": {
  "kernelspec": {
   "display_name": "Python 3",
   "language": "python",
   "name": "python3"
  },
  "language_info": {
   "codemirror_mode": {
    "name": "ipython",
    "version": 3
   },
   "file_extension": ".py",
   "mimetype": "text/x-python",
   "name": "python",
   "nbconvert_exporter": "python",
   "pygments_lexer": "ipython3",
   "version": "3.8.5"
  }
 },
 "nbformat": 4,
 "nbformat_minor": 4
}
